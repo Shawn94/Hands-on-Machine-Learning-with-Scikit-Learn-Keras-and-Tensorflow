{
  "nbformat": 4,
  "nbformat_minor": 0,
  "metadata": {
    "kernelspec": {
      "display_name": "Python 3",
      "language": "python",
      "name": "python3"
    },
    "language_info": {
      "codemirror_mode": {
        "name": "ipython",
        "version": 3
      },
      "file_extension": ".py",
      "mimetype": "text/x-python",
      "name": "python",
      "nbconvert_exporter": "python",
      "pygments_lexer": "ipython3",
      "version": "3.6.8"
    },
    "colab": {
      "name": "Classification.ipynb",
      "provenance": [],
      "collapsed_sections": [],
      "include_colab_link": true
    }
  },
  "cells": [
    {
      "cell_type": "markdown",
      "metadata": {
        "id": "view-in-github",
        "colab_type": "text"
      },
      "source": [
        "<a href=\"https://colab.research.google.com/github/Shawn94/Hands-on-Machine-Learning-with-Scikit-Learn-Keras-and-Tensorflow/blob/master/Classification.ipynb\" target=\"_parent\"><img src=\"https://colab.research.google.com/assets/colab-badge.svg\" alt=\"Open In Colab\"/></a>"
      ]
    },
    {
      "cell_type": "code",
      "metadata": {
        "id": "RNk9msdOa4lr",
        "colab_type": "code",
        "colab": {}
      },
      "source": [
        "from sklearn.datasets import fetch_openml\n",
        "mnist = fetch_openml('mnist_784', version =1) #code to fetch MNIST dataset"
      ],
      "execution_count": null,
      "outputs": []
    },
    {
      "cell_type": "code",
      "metadata": {
        "id": "7KJPheaxa4lz",
        "colab_type": "code",
        "colab": {
          "base_uri": "https://localhost:8080/",
          "height": 34
        },
        "outputId": "ef9e8762-f322-43d6-de70-3083b8f59ee4"
      },
      "source": [
        "mnist.keys() #this is dictionary structure"
      ],
      "execution_count": null,
      "outputs": [
        {
          "output_type": "execute_result",
          "data": {
            "text/plain": [
              "dict_keys(['data', 'target', 'frame', 'feature_names', 'target_names', 'DESCR', 'details', 'categories', 'url'])"
            ]
          },
          "metadata": {
            "tags": []
          },
          "execution_count": 2
        }
      ]
    },
    {
      "cell_type": "code",
      "metadata": {
        "id": "otnz9zFfa4l6",
        "colab_type": "code",
        "colab": {}
      },
      "source": [
        "X, y = mnist[\"data\"], mnist[\"target\"]"
      ],
      "execution_count": null,
      "outputs": []
    },
    {
      "cell_type": "code",
      "metadata": {
        "id": "DpY0fRJsa4l-",
        "colab_type": "code",
        "colab": {}
      },
      "source": [
        "import matplotlib as mpl\n",
        "import matplotlib.pyplot as plt\n",
        "import numpy as np"
      ],
      "execution_count": null,
      "outputs": []
    },
    {
      "cell_type": "code",
      "metadata": {
        "id": "HM5pw6p5a4mC",
        "colab_type": "code",
        "colab": {
          "base_uri": "https://localhost:8080/",
          "height": 266
        },
        "outputId": "0c75307c-dc57-4d43-a7cd-b7e27887685e"
      },
      "source": [
        "some_digit = X[0]\n",
        "some_digit_image = some_digit.reshape(28,28)\n",
        "\n",
        "plt.imshow(some_digit_image, cmap = mpl.cm.binary, interpolation = \"nearest\")\n",
        "plt.axis('off') # clear axises"
      ],
      "execution_count": null,
      "outputs": [
        {
          "output_type": "execute_result",
          "data": {
            "text/plain": [
              "(-0.5, 27.5, 27.5, -0.5)"
            ]
          },
          "metadata": {
            "tags": []
          },
          "execution_count": 5
        },
        {
          "output_type": "display_data",
          "data": {
            "image/png": "[encoded data removed]",
            "text/plain": [
              "<Figure size 432x288 with 1 Axes>"
            ]
          },
          "metadata": {
            "tags": [],
            "needs_background": "light"
          }
        }
      ]
    },
    {
      "cell_type": "code",
      "metadata": {
        "id": "Fwh0mHS6a4mG",
        "colab_type": "code",
        "colab": {
          "base_uri": "https://localhost:8080/",
          "height": 35
        },
        "outputId": "86eb9114-a609-480f-92dd-7ada4d9c7551"
      },
      "source": [
        "y[0] #the label is a stri"
      ],
      "execution_count": null,
      "outputs": [
        {
          "output_type": "execute_result",
          "data": {
            "application/vnd.google.colaboratory.intrinsic+json": {
              "type": "string"
            },
            "text/plain": [
              "'5'"
            ]
          },
          "metadata": {
            "tags": []
          },
          "execution_count": 6
        }
      ]
    },
    {
      "cell_type": "code",
      "metadata": {
        "id": "e3s__PISa4mK",
        "colab_type": "code",
        "colab": {}
      },
      "source": [
        "y = y.astype(np.uint8) #cast y to integers"
      ],
      "execution_count": null,
      "outputs": []
    },
    {
      "cell_type": "code",
      "metadata": {
        "id": "rvu332usa4mO",
        "colab_type": "code",
        "colab": {
          "base_uri": "https://localhost:8080/",
          "height": 34
        },
        "outputId": "aa023044-a200-4d2f-a603-447a5316c012"
      },
      "source": [
        "y[0] #check if string was cast to integer"
      ],
      "execution_count": null,
      "outputs": [
        {
          "output_type": "execute_result",
          "data": {
            "text/plain": [
              "5"
            ]
          },
          "metadata": {
            "tags": []
          },
          "execution_count": 8
        }
      ]
    },
    {
      "cell_type": "code",
      "metadata": {
        "id": "FusJQBQIa4mT",
        "colab_type": "code",
        "colab": {}
      },
      "source": [
        "X_train, X_test, y_train, y_test = X[:60000], X[60000:], y[:60000], y[60000:] #splitting dataset into training and test sets"
      ],
      "execution_count": null,
      "outputs": []
    },
    {
      "cell_type": "code",
      "metadata": {
        "id": "rPaShkwRa4mX",
        "colab_type": "code",
        "colab": {}
      },
      "source": [
        "y_train_5 = (y_train == 5) # True for all 5s, False for all other digits.\n",
        "y_test_5 = (y_test == 5)"
      ],
      "execution_count": null,
      "outputs": []
    },
    {
      "cell_type": "code",
      "metadata": {
        "id": "n5BiGi9Ia4mb",
        "colab_type": "code",
        "colab": {}
      },
      "source": [
        "from sklearn.linear_model import SGDClassifier\n",
        "\n",
        "sgd_clf = SGDClassifier(random_state=42)\n",
        "sgd_clf.fit(X_train, y_train_5);"
      ],
      "execution_count": null,
      "outputs": []
    },
    {
      "cell_type": "markdown",
      "metadata": {
        "id": "FhnAPRpga4mf",
        "colab_type": "text"
      },
      "source": [
        "The SGDClassifier relies on randomness during training (hence\n",
        "the name “stochastic”). If you want reproducible results, you\n",
        "should set the random_state parameter."
      ]
    },
    {
      "cell_type": "code",
      "metadata": {
        "id": "kD-8wklEa4mh",
        "colab_type": "code",
        "colab": {
          "base_uri": "https://localhost:8080/",
          "height": 34
        },
        "outputId": "653f8ffc-657e-439c-9930-6ab6ca9b61b7"
      },
      "source": [
        "sgd_clf.predict([some_digit]) # some_digit = X[0] = mnist['data']"
      ],
      "execution_count": null,
      "outputs": [
        {
          "output_type": "execute_result",
          "data": {
            "text/plain": [
              "array([ True])"
            ]
          },
          "metadata": {
            "tags": []
          },
          "execution_count": 12
        }
      ]
    },
    {
      "cell_type": "markdown",
      "metadata": {
        "id": "dYX8mfNca4mn",
        "colab_type": "text"
      },
      "source": [
        "The classifier guesses that this image represents a 5 (True)."
      ]
    },
    {
      "cell_type": "markdown",
      "metadata": {
        "id": "lt2B8dk7a4mo",
        "colab_type": "text"
      },
      "source": [
        "### Measuring Accuracy Using Cross-Validation"
      ]
    },
    {
      "cell_type": "code",
      "metadata": {
        "id": "VBzQU708a4mp",
        "colab_type": "code",
        "colab": {
          "base_uri": "https://localhost:8080/",
          "height": 125
        },
        "outputId": "170ab2b7-11d7-4dba-910f-c4ebf9adeb31"
      },
      "source": [
        "from sklearn.model_selection import StratifiedKFold \n",
        "from sklearn.base import clone\n",
        "\n",
        "skfolds = StratifiedKFold(n_splits=3, random_state=42)\n",
        "\n",
        "for train_index, test_index in skfolds.split(X_train, y_train_5):\n",
        "    clone_clf = clone(sgd_clf)\n",
        "    X_train_folds = X_train[train_index]\n",
        "    y_train_folds = y_train_5[train_index]\n",
        "    X_test_fold = X_train[test_index]\n",
        "    y_test_fold = y_train_5[test_index]\n",
        "    clone_clf.fit(X_train_folds, y_train_folds)\n",
        "    y_pred = clone_clf.predict(X_test_fold)\n",
        "    n_correct = sum(y_pred == y_test_fold)\n",
        "\n",
        "    print(n_correct / len(y_pred)) # Implement crossvalidation"
      ],
      "execution_count": null,
      "outputs": [
        {
          "output_type": "stream",
          "text": [
            "/usr/local/lib/python3.6/dist-packages/sklearn/model_selection/_split.py:296: FutureWarning: Setting a random_state has no effect since shuffle is False. This will raise an error in 0.24. You should leave random_state to its default (None), or set shuffle=True.\n",
            "  FutureWarning\n"
          ],
          "name": "stderr"
        },
        {
          "output_type": "stream",
          "text": [
            "0.95035\n",
            "0.96035\n",
            "0.9604\n"
          ],
          "name": "stdout"
        }
      ]
    },
    {
      "cell_type": "markdown",
      "metadata": {
        "id": "KcJ4t0qZa4my",
        "colab_type": "text"
      },
      "source": [
        "### cross_val_score() function"
      ]
    },
    {
      "cell_type": "code",
      "metadata": {
        "id": "kH4uPHzCa4mz",
        "colab_type": "code",
        "colab": {
          "base_uri": "https://localhost:8080/",
          "height": 34
        },
        "outputId": "acfda534-aab2-4261-8e52-7af57bd30624"
      },
      "source": [
        "from sklearn.model_selection import cross_val_score\n",
        "cross_val_score(sgd_clf, X_train, y_train_5, cv=3, scoring=\"accuracy\")"
      ],
      "execution_count": null,
      "outputs": [
        {
          "output_type": "execute_result",
          "data": {
            "text/plain": [
              "array([0.95035, 0.96035, 0.9604 ])"
            ]
          },
          "metadata": {
            "tags": []
          },
          "execution_count": 14
        }
      ]
    },
    {
      "cell_type": "markdown",
      "metadata": {
        "id": "byLlfm-Ea4m4",
        "colab_type": "text"
      },
      "source": [
        "The results are the same as implemented Cross-Validation code.\n",
        "But accuracy is generally not the preferred performance measure\n",
        "for classifiers, especially when you are dealing with skewed datasets. \n",
        "because only about 10% of the\n",
        "images are 5s, so if you always guess that an image is not a 5, you will be right about\n",
        "90% of the time"
      ]
    },
    {
      "cell_type": "markdown",
      "metadata": {
        "id": "7gg8y9tUa4m5",
        "colab_type": "text"
      },
      "source": [
        "# Confusion Matrix"
      ]
    },
    {
      "cell_type": "markdown",
      "metadata": {
        "id": "ZOCqjhe0a4m5",
        "colab_type": "text"
      },
      "source": [
        "A much better way to evaluate the performance of a classifier is to look at the confusion\n",
        "matrix. The general idea is to count the number of times instances of class A are\n",
        "classified as class B. For example, to know the number of times the classifier confused\n",
        "images of 5s with 3s, you would look in the 5th row and 3rd column of the confusion\n",
        "matrix."
      ]
    },
    {
      "cell_type": "code",
      "metadata": {
        "id": "VBKKaMBSa4m6",
        "colab_type": "code",
        "colab": {}
      },
      "source": [
        "from sklearn.model_selection import cross_val_predict\n",
        "y_train_pred = cross_val_predict(sgd_clf, X_train, y_train_5, cv=3)"
      ],
      "execution_count": null,
      "outputs": []
    },
    {
      "cell_type": "markdown",
      "metadata": {
        "id": "lHnpqoroa4m9",
        "colab_type": "text"
      },
      "source": [
        "Just like the cross_val_score() function, cross_val_predict() performs K-fold\n",
        "cross-validation, but instead of returning the evaluation scores, it returns the predic‐\n",
        "tions made on each test fold. This means that you get a clean prediction for each\n",
        "instance in the training set (“clean” meaning that the prediction is made by a model\n",
        "that never saw the data during training)."
      ]
    },
    {
      "cell_type": "code",
      "metadata": {
        "id": "rkysHTnHa4m-",
        "colab_type": "code",
        "colab": {
          "base_uri": "https://localhost:8080/",
          "height": 52
        },
        "outputId": "42cdbccd-79a1-4f1e-aab3-25bd080f9c75"
      },
      "source": [
        "from sklearn.metrics import confusion_matrix\n",
        "confusion_matrix(y_train_5, y_train_pred)"
      ],
      "execution_count": null,
      "outputs": [
        {
          "output_type": "execute_result",
          "data": {
            "text/plain": [
              "array([[53892,   687],\n",
              "       [ 1891,  3530]])"
            ]
          },
          "metadata": {
            "tags": []
          },
          "execution_count": 16
        }
      ]
    },
    {
      "cell_type": "markdown",
      "metadata": {
        "id": "-SfLmAOSa4nC",
        "colab_type": "text"
      },
      "source": [
        "Each row in a confusion matrix represents an actual class, while each column represents\n",
        "a predicted class. The first row of this matrix considers non-5 images (the negative\n",
        "class): 53,057 of them were correctly classified as non-5s (they are called true\n",
        "negatives), while the remaining 1,522 were wrongly classified as 5s (false positives).\n",
        "The second row considers the images of 5s (the positive class): 1,325 were wrongly\n",
        "classified as non-5s (false negatives), while the remaining 4,096 were correctly classified\n",
        "as 5s (true positives). A perfect classifier would have only true positives and true\n",
        "negatives, so its confusion matrix would have nonzero values only on its main diagonal\n",
        "(top left to bottom right)"
      ]
    },
    {
      "cell_type": "code",
      "metadata": {
        "id": "vTRUCAETa4nC",
        "colab_type": "code",
        "colab": {
          "base_uri": "https://localhost:8080/",
          "height": 52
        },
        "outputId": "632cfece-20c5-41d9-ca2d-cd2b2077e4ad"
      },
      "source": [
        "y_train_perfect_predictions = y_train_5 # pretend we reached perfection\n",
        "confusion_matrix(y_train_5, y_train_perfect_predictions)"
      ],
      "execution_count": null,
      "outputs": [
        {
          "output_type": "execute_result",
          "data": {
            "text/plain": [
              "array([[54579,     0],\n",
              "       [    0,  5421]])"
            ]
          },
          "metadata": {
            "tags": []
          },
          "execution_count": 17
        }
      ]
    },
    {
      "cell_type": "markdown",
      "metadata": {
        "id": "JRwwPqWza4nG",
        "colab_type": "text"
      },
      "source": [
        "An interesting one to look at is the accuracy of the positive predictions;\n",
        "this is called the precision of the classifier"
      ]
    },
    {
      "cell_type": "markdown",
      "metadata": {
        "id": "WFk4oKAta4nH",
        "colab_type": "text"
      },
      "source": [
        "### Precision"
      ]
    },
    {
      "cell_type": "markdown",
      "metadata": {
        "id": "UbFccnoQa4nI",
        "colab_type": "text"
      },
      "source": [
        "precision = TP/(TP + FP), where TP - true positives, FP - false positives\n",
        "![Precision_and_Recall.png](data:image/png;base64,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)\n",
        "![title](Precision_and_Recall.png)"
      ]
    },
    {
      "cell_type": "code",
      "metadata": {
        "id": "JCqaeQVNa4nI",
        "colab_type": "code",
        "colab": {
          "base_uri": "https://localhost:8080/",
          "height": 34
        },
        "outputId": "f2c4ad9d-3844-46ac-db80-d8afb2161c89"
      },
      "source": [
        "from sklearn.metrics import precision_score, recall_score\n",
        "precision_score(y_train_5, y_train_pred) # == 3530 / (3530 + 687)"
      ],
      "execution_count": null,
      "outputs": [
        {
          "output_type": "execute_result",
          "data": {
            "text/plain": [
              "0.8370879772350012"
            ]
          },
          "metadata": {
            "tags": []
          },
          "execution_count": 18
        }
      ]
    },
    {
      "cell_type": "code",
      "metadata": {
        "id": "cqQqrKzoa4nM",
        "colab_type": "code",
        "colab": {
          "base_uri": "https://localhost:8080/",
          "height": 34
        },
        "outputId": "ce0f9b3f-5633-465e-b518-19f7194becb0"
      },
      "source": [
        "recall_score(y_train_5, y_train_pred) # == 4096 / (4096 + 1325)"
      ],
      "execution_count": null,
      "outputs": [
        {
          "output_type": "execute_result",
          "data": {
            "text/plain": [
              "0.6511713705958311"
            ]
          },
          "metadata": {
            "tags": []
          },
          "execution_count": 19
        }
      ]
    },
    {
      "cell_type": "markdown",
      "metadata": {
        "id": "wrgpGuzEa4nP",
        "colab_type": "text"
      },
      "source": [
        "It is often convenient to combine precision and recall into a single metric\n",
        "called the F score, in particular if you need a simple way to compare two\n",
        "classifiers. The F score is the harmonic mean of precision and recall\n",
        "Whereas the regular mean treats all values equally, the harmonic mean gives much more weight to low values. As a result, the\n",
        "classifier will only get a high F score if both recall and precision are high."
      ]
    },
    {
      "cell_type": "markdown",
      "metadata": {
        "id": "azT1pGa-a4nQ",
        "colab_type": "text"
      },
      "source": [
        "![f1_score.png](data:image/png;base64,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)![title](f1_score.png)"
      ]
    },
    {
      "cell_type": "code",
      "metadata": {
        "id": "uScm20pqa4nR",
        "colab_type": "code",
        "colab": {
          "base_uri": "https://localhost:8080/",
          "height": 34
        },
        "outputId": "7b2e3807-5246-417b-cd3a-100188a5fc3c"
      },
      "source": [
        "from sklearn.metrics import f1_score\n",
        "f1_score(y_train_5, y_train_pred)"
      ],
      "execution_count": null,
      "outputs": [
        {
          "output_type": "execute_result",
          "data": {
            "text/plain": [
              "0.7325171197343846"
            ]
          },
          "metadata": {
            "tags": []
          },
          "execution_count": 20
        }
      ]
    },
    {
      "cell_type": "markdown",
      "metadata": {
        "id": "fT3GZhFEa4nW",
        "colab_type": "text"
      },
      "source": [
        "# Multiclass Classification"
      ]
    },
    {
      "cell_type": "code",
      "metadata": {
        "id": "6bn6IUILa4nW",
        "colab_type": "code",
        "colab": {
          "base_uri": "https://localhost:8080/",
          "height": 87
        },
        "outputId": "38ee8cae-5822-4bf6-cdb6-cd00ae9f1fd1"
      },
      "source": [
        "from sklearn.svm import SVC\n",
        "\n",
        "svm_clf = SVC()\n",
        "svm_clf.fit(X_train, y_train) # y_train, not y_train_5\n"
      ],
      "execution_count": null,
      "outputs": [
        {
          "output_type": "execute_result",
          "data": {
            "text/plain": [
              "SVC(C=1.0, break_ties=False, cache_size=200, class_weight=None, coef0=0.0,\n",
              "    decision_function_shape='ovr', degree=3, gamma='scale', kernel='rbf',\n",
              "    max_iter=-1, probability=False, random_state=None, shrinking=True,\n",
              "    tol=0.001, verbose=False)"
            ]
          },
          "metadata": {
            "tags": []
          },
          "execution_count": 21
        }
      ]
    },
    {
      "cell_type": "code",
      "metadata": {
        "id": "4HKRar1da4na",
        "colab_type": "code",
        "colab": {
          "base_uri": "https://localhost:8080/",
          "height": 34
        },
        "outputId": "ef8aff0f-1b5a-43bd-ac57-e4144cc8641d"
      },
      "source": [
        "svm_clf.predict([some_digit])"
      ],
      "execution_count": null,
      "outputs": [
        {
          "output_type": "execute_result",
          "data": {
            "text/plain": [
              "array([5], dtype=uint8)"
            ]
          },
          "metadata": {
            "tags": []
          },
          "execution_count": 22
        }
      ]
    },
    {
      "cell_type": "markdown",
      "metadata": {
        "id": "KjKDf8CIa4nf",
        "colab_type": "text"
      },
      "source": [
        "This code trains the SVC on the training set using the\n",
        "original target classes from 0 to 9 (y_train), instead of the 5-versus-therest\n",
        "target classes (y_train_5). Then it makes a prediction (a correct one\n",
        "in this case). Under the hood, Scikit-Learn actually used the OvO strategy:\n",
        "it trained 45 binary classifiers, got their decision scores for the image, and\n",
        "selected the class that won the most duels.\n",
        "\n",
        "If you call the decision_function() method, you will see that it returns\n",
        "10 scores per instance (instead of just 1). That’s one score per class:"
      ]
    },
    {
      "cell_type": "code",
      "metadata": {
        "id": "TD7vsEL2a4nh",
        "colab_type": "code",
        "colab": {
          "base_uri": "https://localhost:8080/",
          "height": 52
        },
        "outputId": "e1a025f1-a657-40b7-cfd1-4e4ed990def7"
      },
      "source": [
        "some_digit_scores = svm_clf.decision_function([some_digit])\n",
        "some_digit_scores"
      ],
      "execution_count": null,
      "outputs": [
        {
          "output_type": "execute_result",
          "data": {
            "text/plain": [
              "array([[ 1.72501977,  2.72809088,  7.2510018 ,  8.3076379 , -0.31087254,\n",
              "         9.3132482 ,  1.70975103,  2.76765202,  6.23049537,  4.84771048]])"
            ]
          },
          "metadata": {
            "tags": []
          },
          "execution_count": 23
        }
      ]
    },
    {
      "cell_type": "code",
      "metadata": {
        "id": "nm1IJT8wa4nn",
        "colab_type": "code",
        "colab": {
          "base_uri": "https://localhost:8080/",
          "height": 34
        },
        "outputId": "354a09cf-9bec-48f4-b81d-eef3b6ea3a49"
      },
      "source": [
        "np.argmax(some_digit_scores)"
      ],
      "execution_count": null,
      "outputs": [
        {
          "output_type": "execute_result",
          "data": {
            "text/plain": [
              "5"
            ]
          },
          "metadata": {
            "tags": []
          },
          "execution_count": 24
        }
      ]
    },
    {
      "cell_type": "code",
      "metadata": {
        "id": "E5HtzXlDleIv",
        "colab_type": "code",
        "colab": {
          "base_uri": "https://localhost:8080/",
          "height": 34
        },
        "outputId": "2bd618da-9e69-4539-eba5-09a3117d0ef1"
      },
      "source": [
        "svm_clf.classes_"
      ],
      "execution_count": null,
      "outputs": [
        {
          "output_type": "execute_result",
          "data": {
            "text/plain": [
              "array([0, 1, 2, 3, 4, 5, 6, 7, 8, 9], dtype=uint8)"
            ]
          },
          "metadata": {
            "tags": []
          },
          "execution_count": 25
        }
      ]
    },
    {
      "cell_type": "code",
      "metadata": {
        "id": "eMAD_JsilkIZ",
        "colab_type": "code",
        "colab": {
          "base_uri": "https://localhost:8080/",
          "height": 34
        },
        "outputId": "326590e6-528a-4a6d-af32-338b9140880c"
      },
      "source": [
        "svm_clf.classes_[5]"
      ],
      "execution_count": null,
      "outputs": [
        {
          "output_type": "execute_result",
          "data": {
            "text/plain": [
              "5"
            ]
          },
          "metadata": {
            "tags": []
          },
          "execution_count": 26
        }
      ]
    },
    {
      "cell_type": "markdown",
      "metadata": {
        "id": "T5-JmJpoBk88",
        "colab_type": "text"
      },
      "source": [
        "**Training an SGDClassifier (or a RandomForestClassifier)**"
      ]
    },
    {
      "cell_type": "code",
      "metadata": {
        "id": "mvXnqxf_pM_i",
        "colab_type": "code",
        "colab": {
          "base_uri": "https://localhost:8080/",
          "height": 34
        },
        "outputId": "1c7a9f39-4cdf-4eae-a8fc-0b6b4fd84ceb"
      },
      "source": [
        "sgd_clf.fit(X_train, y_train)\n",
        "sgd_clf.predict([some_digit])"
      ],
      "execution_count": null,
      "outputs": [
        {
          "output_type": "execute_result",
          "data": {
            "text/plain": [
              "array([3], dtype=uint8)"
            ]
          },
          "metadata": {
            "tags": []
          },
          "execution_count": 27
        }
      ]
    },
    {
      "cell_type": "markdown",
      "metadata": {
        "id": "m9b-6Umpsfp3",
        "colab_type": "text"
      },
      "source": [
        "This time Scikit-Learn did not have to run OvR or OvO because SGD\n",
        "classifiers can directly classify instances into multiple classes. The\n",
        "decision_function() method now returns one value per class"
      ]
    },
    {
      "cell_type": "code",
      "metadata": {
        "id": "EBVZ9PV_sjRM",
        "colab_type": "code",
        "colab": {
          "base_uri": "https://localhost:8080/",
          "height": 87
        },
        "outputId": "bbf70b68-942b-4823-e1e6-675cff855f1f"
      },
      "source": [
        "sgd_clf.decision_function([some_digit]) #class 5 has a score of 2412.5. The model has a slight doubt regarding class 3, which gets a score of 573.5."
      ],
      "execution_count": null,
      "outputs": [
        {
          "output_type": "execute_result",
          "data": {
            "text/plain": [
              "array([[-31893.03095419, -34419.69069632,  -9530.63950739,\n",
              "          1823.73154031, -22320.14822878,  -1385.80478895,\n",
              "        -26188.91070951, -16147.51323997,  -4604.35491274,\n",
              "        -12050.767298  ]])"
            ]
          },
          "metadata": {
            "tags": []
          },
          "execution_count": 28
        }
      ]
    },
    {
      "cell_type": "markdown",
      "metadata": {
        "id": "IuxcHbLrs0bH",
        "colab_type": "text"
      },
      "source": [
        "Use the cross_val_score() function to evaluate\n",
        "the SGDClassifier’s accuracy:"
      ]
    },
    {
      "cell_type": "code",
      "metadata": {
        "id": "6nZ1uMBZs2UO",
        "colab_type": "code",
        "colab": {
          "base_uri": "https://localhost:8080/",
          "height": 34
        },
        "outputId": "6841b730-37cb-4247-de37-ddef278bc265"
      },
      "source": [
        "cross_val_score(sgd_clf, X_train, y_train, cv=3, scoring=\"accuracy\")"
      ],
      "execution_count": null,
      "outputs": [
        {
          "output_type": "execute_result",
          "data": {
            "text/plain": [
              "array([0.87365, 0.85835, 0.8689 ])"
            ]
          },
          "metadata": {
            "tags": []
          },
          "execution_count": 29
        }
      ]
    },
    {
      "cell_type": "markdown",
      "metadata": {
        "id": "EQOWQYu2tOAp",
        "colab_type": "text"
      },
      "source": [
        "Simply scaling the inputs increases accuracy"
      ]
    },
    {
      "cell_type": "code",
      "metadata": {
        "id": "Kbdk90J3tQUy",
        "colab_type": "code",
        "colab": {
          "base_uri": "https://localhost:8080/",
          "height": 34
        },
        "outputId": "77ef9b31-2fdf-4369-faf6-0491c008bea0"
      },
      "source": [
        "from sklearn.preprocessing import StandardScaler\n",
        "scaler = StandardScaler()\n",
        "X_train_scaled = scaler.fit_transform(X_train.astype(np.float64))\n",
        "cross_val_score(sgd_clf, X_train_scaled, y_train, cv=3, scoring=\"accuracy\")"
      ],
      "execution_count": null,
      "outputs": [
        {
          "output_type": "execute_result",
          "data": {
            "text/plain": [
              "array([0.8983, 0.891 , 0.9018])"
            ]
          },
          "metadata": {
            "tags": []
          },
          "execution_count": 30
        }
      ]
    },
    {
      "cell_type": "markdown",
      "metadata": {
        "id": "E8f6I-2wy6z2",
        "colab_type": "text"
      },
      "source": [
        "# **Multilabel Classification**"
      ]
    },
    {
      "cell_type": "markdown",
      "metadata": {
        "id": "dKIdcMDFzMi-",
        "colab_type": "text"
      },
      "source": [
        "This code creates a y_multilabel array containing two target labels for\n",
        "each digit image: the first indicates whether or not the digit is large (7, 8,\n",
        "or 9), and the second indicates whether or not it is odd"
      ]
    },
    {
      "cell_type": "code",
      "metadata": {
        "id": "rTm3kOV2zAFj",
        "colab_type": "code",
        "colab": {
          "base_uri": "https://localhost:8080/",
          "height": 70
        },
        "outputId": "d5db578e-49a8-4e58-e6fe-bd6ea6931457"
      },
      "source": [
        "from sklearn.neighbors import KNeighborsClassifier\n",
        "\n",
        "y_train_large = (y_train >= 7)\n",
        "y_train_odd = (y_train % 2 == 1)\n",
        "y_multilabel = np.c_[y_train_large, y_train_odd]\n",
        "\n",
        "knn_clf = KNeighborsClassifier()\n",
        "knn_clf.fit(X_train, y_multilabel)"
      ],
      "execution_count": null,
      "outputs": [
        {
          "output_type": "execute_result",
          "data": {
            "text/plain": [
              "KNeighborsClassifier(algorithm='auto', leaf_size=30, metric='minkowski',\n",
              "                     metric_params=None, n_jobs=None, n_neighbors=5, p=2,\n",
              "                     weights='uniform')"
            ]
          },
          "metadata": {
            "tags": []
          },
          "execution_count": 31
        }
      ]
    },
    {
      "cell_type": "markdown",
      "metadata": {
        "id": "i0cNbherzV7M",
        "colab_type": "text"
      },
      "source": [
        "The next lines\n",
        "create a KNeighborsClassifier instance (which supports multilabel\n",
        "classification, though not all classifiers do), and we train it using the\n",
        "multiple targets array"
      ]
    },
    {
      "cell_type": "code",
      "metadata": {
        "id": "gTkjHA8FzfMj",
        "colab_type": "code",
        "colab": {
          "base_uri": "https://localhost:8080/",
          "height": 34
        },
        "outputId": "f35560c7-96e9-4bb3-fb33-6efa341ade2a"
      },
      "source": [
        "knn_clf.predict([some_digit]) #The digit 5 is indeed not large (False) and odd (True)."
      ],
      "execution_count": null,
      "outputs": [
        {
          "output_type": "execute_result",
          "data": {
            "text/plain": [
              "array([[False,  True]])"
            ]
          },
          "metadata": {
            "tags": []
          },
          "execution_count": 32
        }
      ]
    },
    {
      "cell_type": "markdown",
      "metadata": {
        "id": "kut1phQUzojU",
        "colab_type": "text"
      },
      "source": [
        "There are many ways to evaluate a multilabel classifier, and selecting the\n",
        "right metric really depends on your project. One approach is to measure\n",
        "the F score for each individual label (or any other binary classifier metric\n",
        "discussed earlier), then simply compute the average score"
      ]
    },
    {
      "cell_type": "code",
      "metadata": {
        "id": "Vn28qxWSzp2S",
        "colab_type": "code",
        "colab": {
          "base_uri": "https://localhost:8080/",
          "height": 34
        },
        "outputId": "9fcd4fdc-962c-417a-e320-393c64377d50"
      },
      "source": [
        "y_train_knn_pred = cross_val_predict(knn_clf, X_train, y_multilabel,cv=3)\n",
        "\n",
        "f1_score(y_multilabel, y_train_knn_pred, average=\"macro\")"
      ],
      "execution_count": null,
      "outputs": [
        {
          "output_type": "execute_result",
          "data": {
            "text/plain": [
              "0.976410265560605"
            ]
          },
          "metadata": {
            "tags": []
          },
          "execution_count": 34
        }
      ]
    }
  ]
}